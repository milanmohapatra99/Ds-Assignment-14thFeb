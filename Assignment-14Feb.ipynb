{
 "cells": [
  {
   "cell_type": "markdown",
   "id": "fa616720-acdc-4370-ae95-622d95c653a0",
   "metadata": {},
   "source": [
    "Que:1. What is multithreading in python? Why is it used ? Name the module used to handle threads in python."
   ]
  },
  {
   "cell_type": "markdown",
   "id": "1bdb767f-0165-444d-aeac-d9b8a64661c7",
   "metadata": {},
   "source": [
    "Ans: Multithreading is a threading technique in Python programming to run multiple threads concurrently by \n",
    "rapidly switching between threads with a CPU help (called context switching).\n",
    "Besides, it allows sharing of its data space with the main threads inside a process that share information and communication with other threads easier than individual processes. Multithreading aims to perform multiple tasks simultaneously, which \n",
    "increases performance, speed and improves the rendering of the application.\n",
    "\n",
    "\n",
    "Threading Module:-\n",
    "The threading module exposes all the methods of the thread module and provides some additional methods −\n",
    "\n",
    "1- threading.activeCount() − Returns the number of thread objects that are active.\n",
    "\n",
    "2- threading.currentThread() − Returns the number of thread objects in the caller's thread control.\n",
    "\n",
    "3- threading.enumerate() − Returns a list of all thread objects that are currently active.\n",
    "\n",
    "4- threading.get_ident() - This function returns the thread identifier of the current thread.\n",
    "\n",
    "5- threading.main_thread() - his method returns the main Thread object. \n",
    "\n",
    "6- threading.settrace() - This method is used to set a trace function/hook for all the threads started using the threadingmodule. \n",
    "\n",
    "7- threading.setprofile() - This method is used to set a profile function for all threads started from the threading module.\n",
    "\n",
    "8- threading.stack_size([size]) - This method returns the thread stack size utilised when creating new threads.\n"
   ]
  },
  {
   "cell_type": "markdown",
   "id": "f80d140e-0694-4baf-b908-fd1bed83ffbd",
   "metadata": {},
   "source": [
    " Que:2. Why threading module used?Write the use of the following function: \n",
    "        \n",
    "        1- actively count()\n",
    "        \n",
    "        2- currentThread()\n",
    "        \n",
    "        3- enumerate()"
   ]
  },
  {
   "cell_type": "markdown",
   "id": "c64d3eb6-4e9e-436d-b268-9121a9a1202a",
   "metadata": {},
   "source": [
    "Ans: Threading module is used for creating, controlling and managing threads in python. \n",
    "\n",
    "1- actively count() : Returns the number of thread objects that are active.\n",
    "\n",
    "2- currentThread() : Returns the number of thread objects in the caller's thread control.\n",
    "    \n",
    "3- enumerate() :  Returns a list of all thread objects that are currently active."
   ]
  },
  {
   "cell_type": "markdown",
   "id": "1ca1ed08-94c2-4b6c-b3f0-770a1a1ad9ad",
   "metadata": {},
   "source": [
    "Que:3. Explain the following functions:\n",
    "    \n",
    "    1- run()\n",
    "    \n",
    "    2- start()\n",
    "    \n",
    "    3- join()\n",
    "    \n",
    "    4- isAlive()"
   ]
  },
  {
   "cell_type": "markdown",
   "id": "1276aa7b-483e-4744-9a53-d9bd00e50dc0",
   "metadata": {},
   "source": [
    "Ans: \n",
    "1- run() : The run() method is the entry point for a thread.\n",
    "\n",
    "2- start() − The start() method starts a thread by calling the run method.\n",
    "\n",
    "3- join() − The join() waits for threads to terminate.\n",
    "\n",
    "4- isAlive() − The isAlive() method checks whether a thread is still executing."
   ]
  },
  {
   "cell_type": "markdown",
   "id": "43d0120b-532f-431a-a825-f8f46e8fa6a4",
   "metadata": {},
   "source": [
    "Que:4. Write a python program to create two threads.Thread one must print the list of squares and thread two must print the list of cubes."
   ]
  },
  {
   "cell_type": "code",
   "execution_count": 19,
   "id": "16e466c3-fbc6-4e99-8ef5-4b45757e5aaa",
   "metadata": {},
   "outputs": [
    {
     "name": "stdout",
     "output_type": "stream",
     "text": [
      "1 Square: 1\n",
      "2 Square: 4\n",
      "3 Square: 9\n",
      "4 Square: 16\n",
      "5 Square: 25\n",
      "6 Square: 36\n",
      "7 Square: 49\n",
      "8 Square: 64\n",
      "9 Square: 81\n",
      "10 Square: 100\n",
      "1 Cube: 1\n",
      "2 Cube: 8\n",
      "3 Cube: 27\n",
      "4 Cube: 64\n",
      "5 Cube: 125\n",
      "6 Cube: 216\n",
      "7 Cube: 343\n",
      "8 Cube: 512\n",
      "9 Cube: 729\n",
      "10 Cube: 1000\n"
     ]
    }
   ],
   "source": [
    "#importing Threading Modules\n",
    "import threading\n",
    "\n",
    "#creating Thread one \n",
    "# function to print square of given num\n",
    "def lcube():\n",
    "    for i in range(1 , 11):\n",
    "        print(f\"{i} Cube: {i * i * i}\" )\n",
    "    \n",
    "    \n",
    "#creating Second Thread\n",
    "# function to print square of given num\n",
    "def lsquare():\n",
    "    for i in range(1 , 11):\n",
    "        print(f\"{i} Square: {i * i}\")   \n",
    "\n",
    "    \n",
    "if __name__ ==\"__main__\":\n",
    "    # creating thread\n",
    "    thread1 = threading.Thread(target=lsquare)\n",
    "    thread2 = threading.Thread(target=lcube)\n",
    "    \n",
    "    # starting thread 1\n",
    "    thread1.start()\n",
    "    # starting thread 2\n",
    "    thread2.start()\n",
    "    \n",
    "    #waiting thread is completely executed\n",
    "    thread1.join()\n",
    "    thread2.join()\n",
    "    \n",
    "    "
   ]
  },
  {
   "cell_type": "markdown",
   "id": "6955c658-8367-42be-9992-2e9b24099215",
   "metadata": {},
   "source": [
    "Que:5. State advantages and disadvantages of multithreading"
   ]
  },
  {
   "cell_type": "markdown",
   "id": "dcfd08d4-7a8c-4662-b3dc-c457ca08c5c5",
   "metadata": {},
   "source": [
    "Ans: Multithreading can offers the following advantages:\n",
    "    \n",
    "    1- Enhanced performance by decreased development time\n",
    "\n",
    "    2- Simplified and streamlined program coding\n",
    "\n",
    "    3- Improvised GUI responsiveness\n",
    "\n",
    "    4- Simultaneous and parallelized occurrence of tasks\n",
    "\n",
    "    5- Better use of cache storage by utilization of resources\n",
    "\n",
    "    6- Decreased cost of maintenance\n",
    "\n",
    "    7- Better use of CPU resource\n",
    "    \n",
    "    \n",
    "Multithreading have the following disadvantages:\n",
    "        \n",
    "    1- Complex debugging and testing processes\n",
    "\n",
    "    2- Overhead switching of context\n",
    "\n",
    "    3- Increased potential for deadlock occurrence\n",
    "\n",
    "    4- Increased difficulty level in writing a program\n",
    "\n",
    "    5- Unpredictable results\n",
    "    \n",
    "    \n",
    "Conclusion :\n",
    "    \n",
    "Multithreading can be a powerful tool for improving the performance and responsiveness of a program, but it requires careful design and management to avoid introducing new issues or complexity."
   ]
  },
  {
   "cell_type": "markdown",
   "id": "92eed833-e307-4da9-9fed-91ddb730aa84",
   "metadata": {},
   "source": [
    "Que:6. Explain deadlocks and race conditions."
   ]
  },
  {
   "cell_type": "markdown",
   "id": "c33f6f57-367e-4488-967b-92af94ce783a",
   "metadata": {},
   "source": [
    "Ans:  Race Condition:-\n",
    "\n",
    "When two processes are competing with each other causing data corruption.\n",
    "\n",
    "example:\n",
    "    \n",
    "if two processes/threads are trying to execute the following conditions simultaneously, they cause data corruption:\n",
    "    \n",
    "Thread 1:\n",
    "total = num1 + num2\n",
    "\n",
    "Thread 2:\n",
    "total = num1 - num2\n",
    "    \n",
    "    \n",
    "=> It is very common for the race conditions to go unnoticed during testing even after multiple tests and code reviews. But in production, there would be a lot of processes and threads working parallelly \n",
    "and compete for the same resources, and this problem would occur.\n",
    "\n",
    "Dead Lock :-\n",
    "\n",
    "=> When two processes are waiting for each other directly or indirectly, it is called deadlock.\n",
    "\n",
    "=> This usually occurs when two processes are waiting for shared resources acquired by others. \n",
    "\n",
    "example:\n",
    "    \n",
    "If thread T1 acquired resource R1 and it also needs resource R2 for it to accomplish its task.\n",
    "But the resource R2 is acquired by thread T2 which is waiting for resource R1(which is acquired by T1).. \n",
    "Neither of them will be able to accomplish its task, as they keep waiting for the other resources they need.\n",
    "\n",
    "\n",
    "Conclusion: \n",
    "    \n",
    "Both deadlocks and race conditions can be difficult to detect and diagnose, as they can depend on a variety of external factors and may not be easily reproducible. To avoid these issues, it is important to design multithreaded programs carefully, with appropriate synchronization and coordination between threads to avoid conflicts and ensure correct behavior."
   ]
  }
 ],
 "metadata": {
  "kernelspec": {
   "display_name": "Python 3 (ipykernel)",
   "language": "python",
   "name": "python3"
  },
  "language_info": {
   "codemirror_mode": {
    "name": "ipython",
    "version": 3
   },
   "file_extension": ".py",
   "mimetype": "text/x-python",
   "name": "python",
   "nbconvert_exporter": "python",
   "pygments_lexer": "ipython3",
   "version": "3.10.6"
  }
 },
 "nbformat": 4,
 "nbformat_minor": 5
}
